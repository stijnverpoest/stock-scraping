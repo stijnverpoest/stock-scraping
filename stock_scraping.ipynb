{
 "cells": [
  {
   "cell_type": "markdown",
   "metadata": {},
   "source": [
    "# Web Scraping Stock Data"
   ]
  },
  {
   "cell_type": "code",
   "execution_count": 1,
   "metadata": {},
   "outputs": [],
   "source": [
    "#import the basics\n",
    "import pandas as pd\n",
    "import numpy as np\n",
    "import matplotlib.pyplot as plt\n",
    "import seaborn as sns\n",
    "import datetime"
   ]
  },
  {
   "cell_type": "code",
   "execution_count": 2,
   "metadata": {},
   "outputs": [
    {
     "data": {
      "text/plain": [
       "'C:\\\\Users\\\\Stijn\\\\Documents\\\\GitHub\\\\stock-scraping'"
      ]
     },
     "execution_count": 2,
     "metadata": {},
     "output_type": "execute_result"
    }
   ],
   "source": [
    "#allow to use own functions from functions.py\n",
    "import os\n",
    "os.getcwd()"
   ]
  },
  {
   "cell_type": "code",
   "execution_count": 3,
   "metadata": {},
   "outputs": [],
   "source": [
    "ticker = \"ASML.AS\""
   ]
  },
  {
   "cell_type": "code",
   "execution_count": null,
   "metadata": {},
   "outputs": [],
   "source": [
    "#TO DO:"
   ]
  },
  {
   "cell_type": "code",
   "execution_count": null,
   "metadata": {},
   "outputs": [],
   "source": [
    "#summary\n",
    "url_summary = \"https://finance.yahoo.com/quote/\"+ ticker + \"?p=\" + ticker + \"&.tsrc=fin-srch\"\n",
    "url_summary"
   ]
  },
  {
   "cell_type": "code",
   "execution_count": null,
   "metadata": {},
   "outputs": [],
   "source": [
    "#analysis by analysts\n",
    "url_analists = \"https://finance.yahoo.com/quote/\" + ticker + \"/analysis?p=\" + ticker"
   ]
  },
  {
   "cell_type": "code",
   "execution_count": null,
   "metadata": {},
   "outputs": [],
   "source": [
    "#sustainability\n",
    "url_sust = \"https://finance.yahoo.com/quote/\" + ticker + \"/sustainability?p=\" + ticker"
   ]
  },
  {
   "cell_type": "markdown",
   "metadata": {},
   "source": [
    "## Financials"
   ]
  },
  {
   "cell_type": "code",
   "execution_count": 4,
   "metadata": {},
   "outputs": [],
   "source": [
    "from functions import income_statement"
   ]
  },
  {
   "cell_type": "code",
   "execution_count": 5,
   "metadata": {},
   "outputs": [],
   "source": [
    "cf_abi=income_statement('ABI.BR', 'cash-flow')"
   ]
  },
  {
   "cell_type": "code",
   "execution_count": 6,
   "metadata": {},
   "outputs": [
    {
     "data": {
      "image/png": "[encoded data removed]",
      "text/plain": [
       "<Figure size 432x288 with 1 Axes>"
      ]
     },
     "metadata": {
      "needs_background": "light"
     },
     "output_type": "display_data"
    }
   ],
   "source": [
    "cf_abi['Free Cash Flow'].plot()\n",
    "plt.show()"
   ]
  },
  {
   "cell_type": "markdown",
   "metadata": {},
   "source": [
    "## Statistics"
   ]
  },
  {
   "cell_type": "code",
   "execution_count": 7,
   "metadata": {},
   "outputs": [],
   "source": [
    "from functions import statistics"
   ]
  },
  {
   "cell_type": "code",
   "execution_count": 8,
   "metadata": {},
   "outputs": [],
   "source": [
    "stat_googl = statistics('GOOGL')"
   ]
  },
  {
   "cell_type": "code",
   "execution_count": 9,
   "metadata": {},
   "outputs": [
    {
     "data": {
      "text/html": [
       "<div>\n",
       "<style scoped>\n",
       "    .dataframe tbody tr th:only-of-type {\n",
       "        vertical-align: middle;\n",
       "    }\n",
       "\n",
       "    .dataframe tbody tr th {\n",
       "        vertical-align: top;\n",
       "    }\n",
       "\n",
       "    .dataframe thead th {\n",
       "        text-align: right;\n",
       "    }\n",
       "</style>\n",
       "<table border=\"1\" class=\"dataframe\">\n",
       "  <thead>\n",
       "    <tr style=\"text-align: right;\">\n",
       "      <th></th>\n",
       "      <th>parameter</th>\n",
       "      <th>value</th>\n",
       "    </tr>\n",
       "  </thead>\n",
       "  <tbody>\n",
       "    <tr>\n",
       "      <th>0</th>\n",
       "      <td>Market Cap (intraday)</td>\n",
       "      <td>1.44T</td>\n",
       "    </tr>\n",
       "    <tr>\n",
       "      <th>1</th>\n",
       "      <td>Enterprise Value</td>\n",
       "      <td>1.33T</td>\n",
       "    </tr>\n",
       "    <tr>\n",
       "      <th>2</th>\n",
       "      <td>Trailing P/E</td>\n",
       "      <td>19.71</td>\n",
       "    </tr>\n",
       "    <tr>\n",
       "      <th>3</th>\n",
       "      <td>Forward P/E</td>\n",
       "      <td>19.19</td>\n",
       "    </tr>\n",
       "    <tr>\n",
       "      <th>4</th>\n",
       "      <td>PEG Ratio (5 yr expected)</td>\n",
       "      <td>0.77</td>\n",
       "    </tr>\n",
       "  </tbody>\n",
       "</table>\n",
       "</div>"
      ],
      "text/plain": [
       "                    parameter  value\n",
       "0      Market Cap (intraday)   1.44T\n",
       "1           Enterprise Value   1.33T\n",
       "2               Trailing P/E   19.71\n",
       "3                Forward P/E   19.19\n",
       "4  PEG Ratio (5 yr expected)    0.77"
      ]
     },
     "execution_count": 9,
     "metadata": {},
     "output_type": "execute_result"
    }
   ],
   "source": [
    "stat_googl.head()"
   ]
  },
  {
   "cell_type": "markdown",
   "metadata": {},
   "source": [
    "## Historical Data"
   ]
  },
  {
   "cell_type": "code",
   "execution_count": 470,
   "metadata": {},
   "outputs": [],
   "source": [
    "from functions import hist_stock_price"
   ]
  },
  {
   "cell_type": "code",
   "execution_count": 508,
   "metadata": {},
   "outputs": [],
   "source": [
    "ASML_sp = hist_stock_price('AAPL')"
   ]
  },
  {
   "cell_type": "code",
   "execution_count": 509,
   "metadata": {},
   "outputs": [
    {
     "data": {
      "text/html": [
       "<div>\n",
       "<style scoped>\n",
       "    .dataframe tbody tr th:only-of-type {\n",
       "        vertical-align: middle;\n",
       "    }\n",
       "\n",
       "    .dataframe tbody tr th {\n",
       "        vertical-align: top;\n",
       "    }\n",
       "\n",
       "    .dataframe thead th {\n",
       "        text-align: right;\n",
       "    }\n",
       "</style>\n",
       "<table border=\"1\" class=\"dataframe\">\n",
       "  <thead>\n",
       "    <tr style=\"text-align: right;\">\n",
       "      <th></th>\n",
       "      <th>Date</th>\n",
       "      <th>Open</th>\n",
       "      <th>High</th>\n",
       "      <th>Low</th>\n",
       "      <th>Close*</th>\n",
       "      <th>Adj Close**</th>\n",
       "      <th>Volume</th>\n",
       "    </tr>\n",
       "  </thead>\n",
       "  <tbody>\n",
       "    <tr>\n",
       "      <th>17</th>\n",
       "      <td>2022-05-06</td>\n",
       "      <td>0.0</td>\n",
       "      <td>0.0</td>\n",
       "      <td>0.0</td>\n",
       "      <td>0.0</td>\n",
       "      <td>0.0</td>\n",
       "      <td>0</td>\n",
       "    </tr>\n",
       "    <tr>\n",
       "      <th>81</th>\n",
       "      <td>2022-02-04</td>\n",
       "      <td>0.0</td>\n",
       "      <td>0.0</td>\n",
       "      <td>0.0</td>\n",
       "      <td>0.0</td>\n",
       "      <td>0.0</td>\n",
       "      <td>0</td>\n",
       "    </tr>\n",
       "  </tbody>\n",
       "</table>\n",
       "</div>"
      ],
      "text/plain": [
       "0        Date  Open  High  Low  Close*  Adj Close**  Volume\n",
       "17 2022-05-06   0.0   0.0  0.0     0.0          0.0       0\n",
       "81 2022-02-04   0.0   0.0  0.0     0.0          0.0       0"
      ]
     },
     "execution_count": 509,
     "metadata": {},
     "output_type": "execute_result"
    }
   ],
   "source": [
    "ASML_sp[ASML_sp.Open == 0]"
   ]
  },
  {
   "cell_type": "code",
   "execution_count": 513,
   "metadata": {},
   "outputs": [
    {
     "data": {
      "text/html": [
       "<div>\n",
       "<style scoped>\n",
       "    .dataframe tbody tr th:only-of-type {\n",
       "        vertical-align: middle;\n",
       "    }\n",
       "\n",
       "    .dataframe tbody tr th {\n",
       "        vertical-align: top;\n",
       "    }\n",
       "\n",
       "    .dataframe thead th {\n",
       "        text-align: right;\n",
       "    }\n",
       "</style>\n",
       "<table border=\"1\" class=\"dataframe\">\n",
       "  <thead>\n",
       "    <tr style=\"text-align: right;\">\n",
       "      <th></th>\n",
       "      <th>Date</th>\n",
       "      <th>Open</th>\n",
       "      <th>High</th>\n",
       "      <th>Low</th>\n",
       "      <th>Close*</th>\n",
       "      <th>Adj Close**</th>\n",
       "      <th>Volume</th>\n",
       "    </tr>\n",
       "  </thead>\n",
       "  <tbody>\n",
       "    <tr>\n",
       "      <th>1</th>\n",
       "      <td>2022-05-27</td>\n",
       "      <td>137.39</td>\n",
       "      <td>146.35</td>\n",
       "      <td>145.26</td>\n",
       "      <td>146.29</td>\n",
       "      <td>146.29</td>\n",
       "      <td>6684688</td>\n",
       "    </tr>\n",
       "    <tr>\n",
       "      <th>2</th>\n",
       "      <td>2022-05-26</td>\n",
       "      <td>137.39</td>\n",
       "      <td>144.34</td>\n",
       "      <td>137.14</td>\n",
       "      <td>143.78</td>\n",
       "      <td>143.78</td>\n",
       "      <td>90501100</td>\n",
       "    </tr>\n",
       "    <tr>\n",
       "      <th>3</th>\n",
       "      <td>2022-05-25</td>\n",
       "      <td>138.43</td>\n",
       "      <td>141.79</td>\n",
       "      <td>138.34</td>\n",
       "      <td>140.52</td>\n",
       "      <td>140.52</td>\n",
       "      <td>92482700</td>\n",
       "    </tr>\n",
       "    <tr>\n",
       "      <th>4</th>\n",
       "      <td>2022-05-24</td>\n",
       "      <td>140.81</td>\n",
       "      <td>141.97</td>\n",
       "      <td>137.33</td>\n",
       "      <td>140.36</td>\n",
       "      <td>140.36</td>\n",
       "      <td>104132700</td>\n",
       "    </tr>\n",
       "    <tr>\n",
       "      <th>5</th>\n",
       "      <td>2022-05-23</td>\n",
       "      <td>137.79</td>\n",
       "      <td>143.26</td>\n",
       "      <td>137.65</td>\n",
       "      <td>143.11</td>\n",
       "      <td>143.11</td>\n",
       "      <td>117726300</td>\n",
       "    </tr>\n",
       "    <tr>\n",
       "      <th>6</th>\n",
       "      <td>2022-05-20</td>\n",
       "      <td>139.09</td>\n",
       "      <td>140.70</td>\n",
       "      <td>132.61</td>\n",
       "      <td>137.59</td>\n",
       "      <td>137.59</td>\n",
       "      <td>137194600</td>\n",
       "    </tr>\n",
       "    <tr>\n",
       "      <th>7</th>\n",
       "      <td>2022-05-19</td>\n",
       "      <td>139.88</td>\n",
       "      <td>141.66</td>\n",
       "      <td>136.60</td>\n",
       "      <td>137.35</td>\n",
       "      <td>137.35</td>\n",
       "      <td>136095600</td>\n",
       "    </tr>\n",
       "    <tr>\n",
       "      <th>8</th>\n",
       "      <td>2022-05-18</td>\n",
       "      <td>146.85</td>\n",
       "      <td>147.36</td>\n",
       "      <td>139.90</td>\n",
       "      <td>140.82</td>\n",
       "      <td>140.82</td>\n",
       "      <td>109742900</td>\n",
       "    </tr>\n",
       "    <tr>\n",
       "      <th>9</th>\n",
       "      <td>2022-05-17</td>\n",
       "      <td>148.86</td>\n",
       "      <td>149.77</td>\n",
       "      <td>146.68</td>\n",
       "      <td>149.24</td>\n",
       "      <td>149.24</td>\n",
       "      <td>78336300</td>\n",
       "    </tr>\n",
       "    <tr>\n",
       "      <th>10</th>\n",
       "      <td>2022-05-16</td>\n",
       "      <td>145.55</td>\n",
       "      <td>147.52</td>\n",
       "      <td>144.18</td>\n",
       "      <td>145.54</td>\n",
       "      <td>145.54</td>\n",
       "      <td>86643800</td>\n",
       "    </tr>\n",
       "    <tr>\n",
       "      <th>11</th>\n",
       "      <td>2022-05-13</td>\n",
       "      <td>144.59</td>\n",
       "      <td>148.10</td>\n",
       "      <td>143.11</td>\n",
       "      <td>147.11</td>\n",
       "      <td>147.11</td>\n",
       "      <td>113787000</td>\n",
       "    </tr>\n",
       "    <tr>\n",
       "      <th>12</th>\n",
       "      <td>2022-05-12</td>\n",
       "      <td>142.77</td>\n",
       "      <td>146.20</td>\n",
       "      <td>138.80</td>\n",
       "      <td>142.56</td>\n",
       "      <td>142.56</td>\n",
       "      <td>182602000</td>\n",
       "    </tr>\n",
       "    <tr>\n",
       "      <th>13</th>\n",
       "      <td>2022-05-11</td>\n",
       "      <td>153.50</td>\n",
       "      <td>155.45</td>\n",
       "      <td>145.81</td>\n",
       "      <td>146.50</td>\n",
       "      <td>146.50</td>\n",
       "      <td>142689800</td>\n",
       "    </tr>\n",
       "    <tr>\n",
       "      <th>14</th>\n",
       "      <td>2022-05-10</td>\n",
       "      <td>155.52</td>\n",
       "      <td>156.74</td>\n",
       "      <td>152.93</td>\n",
       "      <td>154.51</td>\n",
       "      <td>154.51</td>\n",
       "      <td>115366700</td>\n",
       "    </tr>\n",
       "    <tr>\n",
       "      <th>15</th>\n",
       "      <td>2022-05-09</td>\n",
       "      <td>154.93</td>\n",
       "      <td>155.83</td>\n",
       "      <td>151.49</td>\n",
       "      <td>152.06</td>\n",
       "      <td>152.06</td>\n",
       "      <td>131577900</td>\n",
       "    </tr>\n",
       "    <tr>\n",
       "      <th>16</th>\n",
       "      <td>2022-05-06</td>\n",
       "      <td>156.01</td>\n",
       "      <td>159.44</td>\n",
       "      <td>154.18</td>\n",
       "      <td>157.28</td>\n",
       "      <td>157.28</td>\n",
       "      <td>116055700</td>\n",
       "    </tr>\n",
       "    <tr>\n",
       "      <th>17</th>\n",
       "      <td>2022-05-06</td>\n",
       "      <td>0.00</td>\n",
       "      <td>0.00</td>\n",
       "      <td>0.00</td>\n",
       "      <td>0.00</td>\n",
       "      <td>0.00</td>\n",
       "      <td>0</td>\n",
       "    </tr>\n",
       "    <tr>\n",
       "      <th>18</th>\n",
       "      <td>2022-05-05</td>\n",
       "      <td>163.85</td>\n",
       "      <td>164.08</td>\n",
       "      <td>154.95</td>\n",
       "      <td>156.77</td>\n",
       "      <td>156.54</td>\n",
       "      <td>130525300</td>\n",
       "    </tr>\n",
       "    <tr>\n",
       "      <th>19</th>\n",
       "      <td>2022-05-04</td>\n",
       "      <td>159.67</td>\n",
       "      <td>166.48</td>\n",
       "      <td>159.26</td>\n",
       "      <td>166.02</td>\n",
       "      <td>165.78</td>\n",
       "      <td>108256500</td>\n",
       "    </tr>\n",
       "    <tr>\n",
       "      <th>20</th>\n",
       "      <td>2022-05-03</td>\n",
       "      <td>158.15</td>\n",
       "      <td>160.71</td>\n",
       "      <td>156.32</td>\n",
       "      <td>159.48</td>\n",
       "      <td>159.25</td>\n",
       "      <td>88966500</td>\n",
       "    </tr>\n",
       "  </tbody>\n",
       "</table>\n",
       "</div>"
      ],
      "text/plain": [
       "0        Date    Open    High     Low  Close*  Adj Close**     Volume\n",
       "1  2022-05-27  137.39  146.35  145.26  146.29       146.29    6684688\n",
       "2  2022-05-26  137.39  144.34  137.14  143.78       143.78   90501100\n",
       "3  2022-05-25  138.43  141.79  138.34  140.52       140.52   92482700\n",
       "4  2022-05-24  140.81  141.97  137.33  140.36       140.36  104132700\n",
       "5  2022-05-23  137.79  143.26  137.65  143.11       143.11  117726300\n",
       "6  2022-05-20  139.09  140.70  132.61  137.59       137.59  137194600\n",
       "7  2022-05-19  139.88  141.66  136.60  137.35       137.35  136095600\n",
       "8  2022-05-18  146.85  147.36  139.90  140.82       140.82  109742900\n",
       "9  2022-05-17  148.86  149.77  146.68  149.24       149.24   78336300\n",
       "10 2022-05-16  145.55  147.52  144.18  145.54       145.54   86643800\n",
       "11 2022-05-13  144.59  148.10  143.11  147.11       147.11  113787000\n",
       "12 2022-05-12  142.77  146.20  138.80  142.56       142.56  182602000\n",
       "13 2022-05-11  153.50  155.45  145.81  146.50       146.50  142689800\n",
       "14 2022-05-10  155.52  156.74  152.93  154.51       154.51  115366700\n",
       "15 2022-05-09  154.93  155.83  151.49  152.06       152.06  131577900\n",
       "16 2022-05-06  156.01  159.44  154.18  157.28       157.28  116055700\n",
       "17 2022-05-06    0.00    0.00    0.00    0.00         0.00          0\n",
       "18 2022-05-05  163.85  164.08  154.95  156.77       156.54  130525300\n",
       "19 2022-05-04  159.67  166.48  159.26  166.02       165.78  108256500\n",
       "20 2022-05-03  158.15  160.71  156.32  159.48       159.25   88966500"
      ]
     },
     "execution_count": 513,
     "metadata": {},
     "output_type": "execute_result"
    }
   ],
   "source": [
    "ASML_sp.head(20)"
   ]
  },
  {
   "cell_type": "code",
   "execution_count": 510,
   "metadata": {},
   "outputs": [
    {
     "data": {
      "text/plain": [
       "100"
      ]
     },
     "execution_count": 510,
     "metadata": {},
     "output_type": "execute_result"
    }
   ],
   "source": [
    "len(ASML_sp)"
   ]
  },
  {
   "cell_type": "code",
   "execution_count": 511,
   "metadata": {},
   "outputs": [],
   "source": [
    "d = {}\n",
    "for i in range(len(ASML_sp[ASML_sp.Open == 0])):\n",
    "    d[\"div_date_{0}\".format(i)] = ASML_sp.loc[ASML_sp.Open == 0, 'Date'].iloc[i] #get the date of dividend\n",
    "    d[\"div_date_index_{0}\".format(i)] = div_date.index[i] #get the index of the dividend line\n",
    "    d[\"div_value_{0}\".format(i)] = ASML_sp.iloc[div_date_index-2, 5].iloc[i] #get the value at closing of the dividend day"
   ]
  },
  {
   "cell_type": "code",
   "execution_count": 512,
   "metadata": {},
   "outputs": [
    {
     "data": {
      "text/plain": [
       "{'div_date_0': Timestamp('2022-05-06 00:00:00'),\n",
       " 'div_date_index_0': 18,\n",
       " 'div_value_0': 0.0,\n",
       " 'div_date_1': Timestamp('2022-02-04 00:00:00'),\n",
       " 'div_date_index_1': 21,\n",
       " 'div_value_1': 159.25}"
      ]
     },
     "execution_count": 512,
     "metadata": {},
     "output_type": "execute_result"
    }
   ],
   "source": [
    "d"
   ]
  },
  {
   "cell_type": "code",
   "execution_count": 476,
   "metadata": {},
   "outputs": [],
   "source": [
    "ASML_sp = ASML_sp.drop(ASML_sp[ASML_sp.Open == 0].index) #remove dividend line(s)"
   ]
  },
  {
   "cell_type": "code",
   "execution_count": 477,
   "metadata": {},
   "outputs": [
    {
     "data": {
      "text/plain": [
       "98"
      ]
     },
     "execution_count": 477,
     "metadata": {},
     "output_type": "execute_result"
    }
   ],
   "source": [
    "len(ASML_sp)"
   ]
  },
  {
   "cell_type": "code",
   "execution_count": 478,
   "metadata": {},
   "outputs": [
    {
     "data": {
      "text/plain": [
       "2.0"
      ]
     },
     "execution_count": 478,
     "metadata": {},
     "output_type": "execute_result"
    }
   ],
   "source": [
    "len(d)/3"
   ]
  },
  {
   "cell_type": "code",
   "execution_count": 479,
   "metadata": {},
   "outputs": [
    {
     "data": {
      "text/plain": [
       "54"
      ]
     },
     "execution_count": 479,
     "metadata": {},
     "output_type": "execute_result"
    }
   ],
   "source": [
    "int(d['div_value_0'])"
   ]
  },
  {
   "cell_type": "code",
   "execution_count": 499,
   "metadata": {},
   "outputs": [
    {
     "data": {
      "image/png": "[encoded data removed]",
      "text/plain": [
       "<Figure size 432x288 with 1 Axes>"
      ]
     },
     "metadata": {
      "needs_background": "light"
     },
     "output_type": "display_data"
    }
   ],
   "source": [
    "plt.plot('Date', 'Close*', data=ASML_sp)\n",
    "plt.grid()\n",
    "plt.title(\"ASML Stock price\")\n",
    "#plt.annotate(\"Dividend\", (div_date, div_value+10))\n",
    "#plt.annotate(\"Dividend\", (div_date, div_value+10))\n",
    "#plt.plot(div_date, div_value, '.', color='black')\n",
    "for i in range(int(len(d)/3)):\n",
    "    plt.annotate(\"Dividend\", (d['div_date_{0}'.format(i)], d['div_value_{0}'.format(i)] + d['div_value_{0}'.format(i)]/50))\n",
    "    plt.plot(d['div_date_{0}'.format(i)], d['div_value_{0}'.format(i)], '.', color='black')\n",
    "plt.xticks(rotation='90')\n",
    "plt.show()"
   ]
  },
  {
   "cell_type": "code",
   "execution_count": 507,
   "metadata": {},
   "outputs": [
    {
     "data": {
      "text/html": [
       "<div>\n",
       "<style scoped>\n",
       "    .dataframe tbody tr th:only-of-type {\n",
       "        vertical-align: middle;\n",
       "    }\n",
       "\n",
       "    .dataframe tbody tr th {\n",
       "        vertical-align: top;\n",
       "    }\n",
       "\n",
       "    .dataframe thead th {\n",
       "        text-align: right;\n",
       "    }\n",
       "</style>\n",
       "<table border=\"1\" class=\"dataframe\">\n",
       "  <thead>\n",
       "    <tr style=\"text-align: right;\">\n",
       "      <th></th>\n",
       "      <th>Date</th>\n",
       "      <th>Open</th>\n",
       "      <th>High</th>\n",
       "      <th>Low</th>\n",
       "      <th>Close*</th>\n",
       "      <th>Adj Close**</th>\n",
       "      <th>Volume</th>\n",
       "    </tr>\n",
       "  </thead>\n",
       "  <tbody>\n",
       "    <tr>\n",
       "      <th>1</th>\n",
       "      <td>2022-05-27</td>\n",
       "      <td>137.39</td>\n",
       "      <td>146.35</td>\n",
       "      <td>145.26</td>\n",
       "      <td>146.34</td>\n",
       "      <td>146.34</td>\n",
       "      <td>6591817</td>\n",
       "    </tr>\n",
       "    <tr>\n",
       "      <th>2</th>\n",
       "      <td>2022-05-26</td>\n",
       "      <td>137.39</td>\n",
       "      <td>144.34</td>\n",
       "      <td>137.14</td>\n",
       "      <td>143.78</td>\n",
       "      <td>143.78</td>\n",
       "      <td>90501100</td>\n",
       "    </tr>\n",
       "    <tr>\n",
       "      <th>3</th>\n",
       "      <td>2022-05-25</td>\n",
       "      <td>138.43</td>\n",
       "      <td>141.79</td>\n",
       "      <td>138.34</td>\n",
       "      <td>140.52</td>\n",
       "      <td>140.52</td>\n",
       "      <td>92482700</td>\n",
       "    </tr>\n",
       "    <tr>\n",
       "      <th>4</th>\n",
       "      <td>2022-05-24</td>\n",
       "      <td>140.81</td>\n",
       "      <td>141.97</td>\n",
       "      <td>137.33</td>\n",
       "      <td>140.36</td>\n",
       "      <td>140.36</td>\n",
       "      <td>104132700</td>\n",
       "    </tr>\n",
       "    <tr>\n",
       "      <th>5</th>\n",
       "      <td>2022-05-23</td>\n",
       "      <td>137.79</td>\n",
       "      <td>143.26</td>\n",
       "      <td>137.65</td>\n",
       "      <td>143.11</td>\n",
       "      <td>143.11</td>\n",
       "      <td>117726300</td>\n",
       "    </tr>\n",
       "    <tr>\n",
       "      <th>...</th>\n",
       "      <td>...</td>\n",
       "      <td>...</td>\n",
       "      <td>...</td>\n",
       "      <td>...</td>\n",
       "      <td>...</td>\n",
       "      <td>...</td>\n",
       "      <td>...</td>\n",
       "    </tr>\n",
       "    <tr>\n",
       "      <th>96</th>\n",
       "      <td>2022-01-13</td>\n",
       "      <td>175.78</td>\n",
       "      <td>176.62</td>\n",
       "      <td>171.79</td>\n",
       "      <td>172.19</td>\n",
       "      <td>171.72</td>\n",
       "      <td>84505800</td>\n",
       "    </tr>\n",
       "    <tr>\n",
       "      <th>97</th>\n",
       "      <td>2022-01-12</td>\n",
       "      <td>176.12</td>\n",
       "      <td>177.18</td>\n",
       "      <td>174.82</td>\n",
       "      <td>175.53</td>\n",
       "      <td>175.05</td>\n",
       "      <td>74805200</td>\n",
       "    </tr>\n",
       "    <tr>\n",
       "      <th>98</th>\n",
       "      <td>2022-01-11</td>\n",
       "      <td>172.32</td>\n",
       "      <td>175.18</td>\n",
       "      <td>170.82</td>\n",
       "      <td>175.08</td>\n",
       "      <td>174.60</td>\n",
       "      <td>76138300</td>\n",
       "    </tr>\n",
       "    <tr>\n",
       "      <th>99</th>\n",
       "      <td>2022-01-10</td>\n",
       "      <td>169.08</td>\n",
       "      <td>172.50</td>\n",
       "      <td>168.17</td>\n",
       "      <td>172.19</td>\n",
       "      <td>171.72</td>\n",
       "      <td>106765600</td>\n",
       "    </tr>\n",
       "    <tr>\n",
       "      <th>100</th>\n",
       "      <td>2022-01-07</td>\n",
       "      <td>172.89</td>\n",
       "      <td>174.14</td>\n",
       "      <td>171.03</td>\n",
       "      <td>172.17</td>\n",
       "      <td>171.70</td>\n",
       "      <td>86709100</td>\n",
       "    </tr>\n",
       "  </tbody>\n",
       "</table>\n",
       "<p>100 rows × 7 columns</p>\n",
       "</div>"
      ],
      "text/plain": [
       "0         Date    Open    High     Low  Close*  Adj Close**     Volume\n",
       "1   2022-05-27  137.39  146.35  145.26  146.34       146.34    6591817\n",
       "2   2022-05-26  137.39  144.34  137.14  143.78       143.78   90501100\n",
       "3   2022-05-25  138.43  141.79  138.34  140.52       140.52   92482700\n",
       "4   2022-05-24  140.81  141.97  137.33  140.36       140.36  104132700\n",
       "5   2022-05-23  137.79  143.26  137.65  143.11       143.11  117726300\n",
       "..         ...     ...     ...     ...     ...          ...        ...\n",
       "96  2022-01-13  175.78  176.62  171.79  172.19       171.72   84505800\n",
       "97  2022-01-12  176.12  177.18  174.82  175.53       175.05   74805200\n",
       "98  2022-01-11  172.32  175.18  170.82  175.08       174.60   76138300\n",
       "99  2022-01-10  169.08  172.50  168.17  172.19       171.72  106765600\n",
       "100 2022-01-07  172.89  174.14  171.03  172.17       171.70   86709100\n",
       "\n",
       "[100 rows x 7 columns]"
      ]
     },
     "execution_count": 507,
     "metadata": {},
     "output_type": "execute_result"
    }
   ],
   "source": [
    "hist_stock_price('AAPL')"
   ]
  },
  {
   "cell_type": "code",
   "execution_count": 496,
   "metadata": {},
   "outputs": [],
   "source": [
    "def plot_sp(ticker):\n",
    "    dataset = hist_stock_price(ticker)\n",
    "    \n",
    "    d = {}\n",
    "    for i in range(len(dataset[dataset.Open == 0])):\n",
    "        d[\"div_date_{0}\".format(i)] = dataset.loc[dataset.Open == 0, 'Date'].iloc[i] #get the date of dividend\n",
    "        d[\"div_date_index_{0}\".format(i)] = div_date.index[i] #get the index of the dividend line\n",
    "        d[\"div_value_{0}\".format(i)] = dataset.iloc[div_date_index-2, 5].iloc[i] #get the value at closing of the dividend day\n",
    "    \n",
    "    dataset = dataset.drop(dataset[dataset.Open == 0].index) #remove dividend line(s)\n",
    "    \n",
    "    #create plot\n",
    "    plt.plot('Date', 'Close*', data=dataset)\n",
    "    plt.grid()\n",
    "    plt.title(str(ticker) + \" Stock price\")\n",
    "    for i in range(int(len(d)/3)):\n",
    "        plt.annotate(\"Dividend\", (d['div_date_{0}'.format(i)], d['div_value_{0}'.format(i)] + d['div_value_{0}'.format(i)]/50))\n",
    "        plt.plot(d['div_date_{0}'.format(i)], d['div_value_{0}'.format(i)], '.', color='black')\n",
    "    plt.xticks(rotation='90')\n",
    "    plt.show()"
   ]
  },
  {
   "cell_type": "code",
   "execution_count": 364,
   "metadata": {},
   "outputs": [],
   "source": [
    "from dateutil.relativedelta import relativedelta"
   ]
  },
  {
   "cell_type": "code",
   "execution_count": 365,
   "metadata": {},
   "outputs": [],
   "source": [
    "def to_weekday(timestamp, type='forth'):\n",
    "    if type == 'back':\n",
    "        if timestamp.weekday() == 5: #saturday\n",
    "            timestamp = timestamp - relativedelta(days=+1)\n",
    "        elif timestamp.weekday() == 6: #sunday\n",
    "            timestamp = timestamp - relativedelta(days=+2)\n",
    "        else:\n",
    "            pass\n",
    "    elif type == 'forth':\n",
    "        if timestamp.weekday() == 5: #saturday\n",
    "            timestamp = timestamp + relativedelta(days=+2)\n",
    "        elif timestamp.weekday() == 6: #sunday\n",
    "            timestamp = timestamp + relativedelta(days=+1)\n",
    "        else:\n",
    "            pass\n",
    "    return timestamp"
   ]
  },
  {
   "cell_type": "code",
   "execution_count": 366,
   "metadata": {},
   "outputs": [],
   "source": [
    "def relative_diff(dataset, months_back=3):\n",
    "    try:\n",
    "        m3 = pd.to_datetime('today').floor('D') - relativedelta(months=+months_back)\n",
    "        m3 = to_weekday(m3)\n",
    "        \n",
    "        m2 = m3 + relativedelta(days=+1)\n",
    "        m2 = to_weekday(m2, 'forth')\n",
    "        \n",
    "        m1 = m3 - relativedelta(days=+1)\n",
    "        m1 = to_weekday(m1, 'back')\n",
    "        \n",
    "        old = dataset.loc[(dataset['Date'] > m1) & (dataset['Date'] < m2), 'Close*'].iloc[0] #add iloc to make it a value instead of a Series\n",
    "        new = dataset.loc[dataset['Date'] > today - relativedelta(days=+1), 'Close*'].iloc[0] #add iloc to make it a value instead of a Series\n",
    "        \n",
    "        diff = ((new - old) / old)*100\n",
    "        diff2 = round(diff, 2)\n",
    "        \n",
    "        return print('Relative difference 3 months: ' + str(diff2)+'%' + ' [compared to ' + str(m3.date()) + ']')\n",
    "    \n",
    "    except IndexError:\n",
    "        print(\"Error: No data available for that period, try a lower number.\")"
   ]
  },
  {
   "cell_type": "code",
   "execution_count": 368,
   "metadata": {},
   "outputs": [
    {
     "name": "stdout",
     "output_type": "stream",
     "text": [
      "Relative difference 3 months: -14.85% [compared to 2022-03-28]\n"
     ]
    }
   ],
   "source": [
    "relative_diff(ASML_sp, 2)"
   ]
  },
  {
   "cell_type": "code",
   "execution_count": null,
   "metadata": {},
   "outputs": [],
   "source": []
  }
 ],
 "metadata": {
  "kernelspec": {
   "display_name": "Python 3",
   "language": "python",
   "name": "python3"
  },
  "language_info": {
   "codemirror_mode": {
    "name": "ipython",
    "version": 3
   },
   "file_extension": ".py",
   "mimetype": "text/x-python",
   "name": "python",
   "nbconvert_exporter": "python",
   "pygments_lexer": "ipython3",
   "version": "3.8.5"
  }
 },
 "nbformat": 4,
 "nbformat_minor": 4
}
