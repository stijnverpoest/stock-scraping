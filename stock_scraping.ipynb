{
 "cells": [
  {
   "cell_type": "markdown",
   "metadata": {},
   "source": [
    "# Web Scraping Stock Data"
   ]
  },
  {
   "cell_type": "code",
   "execution_count": null,
   "metadata": {},
   "outputs": [],
   "source": [
    "#import the basics\n",
    "import pandas as pd\n",
    "import numpy as np\n",
    "import matplotlib as plt\n",
    "import seaborn as sns\n",
    "import datetime"
   ]
  },
  {
   "cell_type": "code",
   "execution_count": null,
   "metadata": {},
   "outputs": [],
   "source": [
    "#import web scraping packages\n",
    "from bs4 import BeautifulSoup\n",
    "import requests\n",
    "import urllib.request as ur\n",
    "import pandas_datareader.data as web"
   ]
  },
  {
   "cell_type": "code",
   "execution_count": null,
   "metadata": {},
   "outputs": [],
   "source": [
    "ticker = \"ASML.AS\""
   ]
  },
  {
   "cell_type": "code",
   "execution_count": null,
   "metadata": {},
   "outputs": [],
   "source": [
    "#summary\n",
    "url_summary = \"https://finance.yahoo.com/quote/\"+ ticker + \"?p=\" + ticker + \"&.tsrc=fin-srch\"\n",
    "url_summary"
   ]
  },
  {
   "cell_type": "code",
   "execution_count": null,
   "metadata": {},
   "outputs": [],
   "source": [
    "#statistics\n",
    "url_stat = \"https://finance.yahoo.com/quote/\" + ticker + \"/key-statistics?p=\" + ticker"
   ]
  },
  {
   "cell_type": "code",
   "execution_count": null,
   "metadata": {},
   "outputs": [],
   "source": [
    "#historical data\n",
    "url_hist = \"https://finance.yahoo.com/quote/\" + ticker + \"/history?p=\" + ticker"
   ]
  },
  {
   "cell_type": "code",
   "execution_count": null,
   "metadata": {},
   "outputs": [],
   "source": [
    "#financials\n",
    "url_fin = \"https://finance.yahoo.com/quote/\" + ticker + \"/financials?p=\" + ticker\n",
    "url_bs = \"https://finance.yahoo.com/quote/\" + ticker + \"/balance-sheet?p=\" + ticker"
   ]
  },
  {
   "cell_type": "code",
   "execution_count": null,
   "metadata": {},
   "outputs": [],
   "source": [
    "#analysis by analysts\n",
    "url_analists = \"https://finance.yahoo.com/quote/\" + ticker + \"/analysis?p=\" + ticker"
   ]
  },
  {
   "cell_type": "code",
   "execution_count": null,
   "metadata": {},
   "outputs": [],
   "source": [
    "#sustainability\n",
    "url_sust = \"https://finance.yahoo.com/quote/\" + ticker + \"/sustainability?p=\" + ticker"
   ]
  },
  {
   "cell_type": "markdown",
   "metadata": {},
   "source": [
    "## Financials"
   ]
  },
  {
   "cell_type": "code",
   "execution_count": null,
   "metadata": {},
   "outputs": [],
   "source": [
    "def income_statement(ticker, type='balance-sheet'):\n",
    "    \"\"\"\n",
    "    Webscrape financial data from Yahoo! Finance.\n",
    "\n",
    "    Parameters\n",
    "    ----------\n",
    "    ticker : str\n",
    "        Ticker of the company you want to consult.\n",
    "    type : str\n",
    "        Type of financial information you would like.\n",
    "        -Options for type: financials, balance-sheet & cash-flow. Default is balance-sheet.\n",
    "\n",
    "    Returns\n",
    "    -------\n",
    "    pandas DataFrame\n",
    "\n",
    "    Caution\n",
    "    --------\n",
    "    Numbers are in thousands.\n",
    "    \"\"\"\n",
    "    \n",
    "    #scraping\n",
    "    url_fin = \"https://finance.yahoo.com/quote/\" + ticker + \"/\" + type + \"?p=\" + ticker\n",
    "    \n",
    "    response = requests.get(url_fin, headers={\n",
    "    \"User-Agent\": \"Mozilla/5.0 (Macintosh; Intel Mac OS X 10_15_7) AppleWebKit/537.36 (KHTML, like Gecko) Chrome/96.0.4664.111 Safari/537.36\",\n",
    "    })\n",
    "    soup = BeautifulSoup(response.text, 'html.parser')\n",
    "    \n",
    "    \n",
    "    ls = []\n",
    "\n",
    "    #find all HTML code that is div\n",
    "    for i in soup.find_all('div'):\n",
    "        ls.append(i.string)\n",
    "        \n",
    "        #fill up missing titles\n",
    "        if i.string != i.get('title'):\n",
    "            ls.append(i.get('title'))\n",
    "                \n",
    "    #filter out all the 'none'-values\n",
    "    new_ls = list(filter(None,ls))\n",
    "    \n",
    "    #remove the first elements of new_ls until we find the starting point of the table\n",
    "    new_ls = new_ls[new_ls.index('Expand All'):]\n",
    "    \n",
    "    #zip per 6 for inc-st & cash flow and per 5 for balance sheet\n",
    "    if type == 'balance-sheet':\n",
    "        zipped_ls = list(zip(*[iter(new_ls)]*5))\n",
    "    else:\n",
    "        zipped_ls = list(zip(*[iter(new_ls)]*6))\n",
    "    \n",
    "    #turn list into dataframe\n",
    "    df = pd.DataFrame(zipped_ls)\n",
    "    \n",
    "    #cleaning up the dataframe\n",
    "    df.columns = df.iloc[0]\n",
    "    df = df.iloc[1:]\n",
    "    df.rename(columns = {'Expand All':'Breakdown'}, inplace = True)\n",
    "    df.set_index('Breakdown', inplace=True, drop=True)\n",
    "    df = df.T\n",
    "    df.index.name = None #remove zero in index title\n",
    "    df.sort_index(inplace=True)\n",
    "    \n",
    "    #convert values to int\n",
    "    col = df.columns\n",
    "    for col in df: \n",
    "        temp = df[col].to_string().replace(',','').split('\\n')\n",
    "        df[col]= [i[10:].strip() for i in temp]\n",
    "        df[col] = pd.to_numeric(df[col], errors='coerce').fillna(0).astype(int)\n",
    "        \n",
    "    return df"
   ]
  },
  {
   "cell_type": "code",
   "execution_count": null,
   "metadata": {},
   "outputs": [],
   "source": [
    "df=income_statement('ABI.BR', 'cash-flow')"
   ]
  },
  {
   "cell_type": "code",
   "execution_count": null,
   "metadata": {},
   "outputs": [],
   "source": [
    "df"
   ]
  },
  {
   "cell_type": "code",
   "execution_count": null,
   "metadata": {},
   "outputs": [],
   "source": [
    "df['Free Cash Flow'].plot()"
   ]
  },
  {
   "cell_type": "markdown",
   "metadata": {},
   "source": [
    "## Statistics"
   ]
  },
  {
   "cell_type": "code",
   "execution_count": null,
   "metadata": {},
   "outputs": [],
   "source": [
    "response = requests.get(url_stat, headers={\n",
    "    \"User-Agent\": \"Mozilla/5.0 (Macintosh; Intel Mac OS X 10_15_7) AppleWebKit/537.36 (KHTML, like Gecko) Chrome/96.0.4664.111 Safari/537.36\",\n",
    "})\n",
    "soup = BeautifulSoup(response.text, 'html.parser')\n",
    "stock_data = soup.find_all(\"table\")"
   ]
  },
  {
   "cell_type": "code",
   "execution_count": null,
   "metadata": {},
   "outputs": [],
   "source": [
    "for table in stock_data:\n",
    "    # Scrape all table rows into variable trs\n",
    "    trs = table.find_all('tr')\n",
    "    for tr in trs:\n",
    "        # Scrape all table data tags into variable tds\n",
    "        tds = tr.find_all('td')\n",
    "        # Index 0 of tds will contain the measurement\n",
    "        print(\"Measure: {}\".format(tds[0].get_text()))\n",
    "        # Index 1 of tds will contain the value\n",
    "        print(\"Value: {}\".format(tds[1].get_text()))\n",
    "        print(\"\")\n",
    "\n",
    "\n",
    "def get_measurement(table_array, measurement):\n",
    "    for table in table_array:\n",
    "        trs = table.find_all('tr')\n",
    "        for tr in trs:\n",
    "            tds = tr.find_all('td')\n",
    "            if measurement.lower() in tds[0].get_text().lower():\n",
    "                return(tds[1].get_text())\n",
    "\n",
    "\n",
    "# print only one measurement, e.g. operating cash flow\n",
    "print(get_measurement(stock_data, \"operating cash flow\"))"
   ]
  },
  {
   "cell_type": "code",
   "execution_count": null,
   "metadata": {},
   "outputs": [],
   "source": [
    "#scraping\n",
    "url_fin = \"https://finance.yahoo.com/quote/\" + ticker + \"/key-statistics?p=\" + ticker\n",
    "\n",
    "response = requests.get(url_fin, headers={\n",
    "\"User-Agent\": \"Mozilla/5.0 (Macintosh; Intel Mac OS X 10_15_7) AppleWebKit/537.36 (KHTML, like Gecko) Chrome/96.0.4664.111 Safari/537.36\",\n",
    "})\n",
    "soup = BeautifulSoup(response.text, 'html.parser')\n",
    "\n",
    "\n",
    "ls = []\n",
    "\n",
    "#find all HTML code that is div\n",
    "for i in soup.find_all('tr'):\n",
    "    ls.append(i.string)\n",
    "    \n",
    "    #fill up missing titles\n",
    "    if i.string != i.get('title'):\n",
    "        ls.append(i.get('title'))\n",
    "        \n",
    "new_ls = list(filter(None,ls))"
   ]
  },
  {
   "cell_type": "markdown",
   "metadata": {},
   "source": [
    "## Historical Data"
   ]
  },
  {
   "cell_type": "code",
   "execution_count": null,
   "metadata": {},
   "outputs": [],
   "source": []
  }
 ],
 "metadata": {
  "kernelspec": {
   "display_name": "Python 3",
   "language": "python",
   "name": "python3"
  },
  "language_info": {
   "codemirror_mode": {
    "name": "ipython",
    "version": 3
   },
   "file_extension": ".py",
   "mimetype": "text/x-python",
   "name": "python",
   "nbconvert_exporter": "python",
   "pygments_lexer": "ipython3",
   "version": "3.8.5"
  }
 },
 "nbformat": 4,
 "nbformat_minor": 4
}
